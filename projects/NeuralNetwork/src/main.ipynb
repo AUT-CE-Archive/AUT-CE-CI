{
 "cells": [
  {
   "cell_type": "markdown",
   "metadata": {},
   "source": [
    "# MNIST Handwritten Digits Classification"
   ]
  },
  {
   "cell_type": "code",
   "execution_count": 1,
   "metadata": {},
   "outputs": [],
   "source": [
    "# Standard imports\n",
    "import numpy as np\n",
    "from keras.datasets import mnist\n",
    "from keras.utils import np_utils\n",
    "from matplotlib import pyplot as plt\n",
    "\n",
    "# Third-party imports\n",
    "from losses import MSE, CrossEntropy\n",
    "from layers import Dense\n",
    "from network import Network\n",
    "from activations import Tanh, Softmax\n",
    "\n",
    "plt.style.use('ggplot')"
   ]
  },
  {
   "cell_type": "code",
   "execution_count": 32,
   "metadata": {},
   "outputs": [],
   "source": [
    "def show_image(img: np.ndarray) -> None:\n",
    "    \"\"\" Plots an image on grayscale \"\"\"\n",
    "    image = img.reshape((28, 28))\n",
    "    plt.imshow(image, 'gray')\n",
    "\n",
    "\n",
    "def get_accuracy(y_true: np.ndarray, y_pred: np.ndarray) -> float:\n",
    "    \"\"\" Calculates the accuracy of the predictions \"\"\"\n",
    "    return (np.argmax(y_pred, axis = 1) == np.argmax(y_true, axis = 1)).sum() / len(y_true)\n",
    "\n",
    "\n",
    "def subsample(x: np.ndarray, y: np.ndarray, n: int) -> tuple:\n",
    "    \"\"\" Returns a subsample of the dataset \"\"\"\n",
    "    return x[:n], y[:n]"
   ]
  },
  {
   "cell_type": "markdown",
   "metadata": {},
   "source": [
    "### Loading the Data"
   ]
  },
  {
   "cell_type": "code",
   "execution_count": 33,
   "metadata": {},
   "outputs": [
    {
     "data": {
      "image/png": "[encoded data removed]",
      "text/plain": [
       "<Figure size 640x480 with 1 Axes>"
      ]
     },
     "metadata": {},
     "output_type": "display_data"
    }
   ],
   "source": [
    "(x_train, y_train), (x_test, y_test) = mnist.load_data()\n",
    "show_image(x_train[0])  # Show image example"
   ]
  },
  {
   "cell_type": "code",
   "execution_count": 34,
   "metadata": {},
   "outputs": [],
   "source": [
    "def reshape_and_normalize_data(data: np.ndarray) -> np.ndarray:\n",
    "    \"\"\" Reshapes and normalizes the data \"\"\"\n",
    "    data = data.reshape(data.shape[0], 1, 28 * 28)\n",
    "    return data.astype('float32') / 255\n",
    "\n",
    "# Reshape and normalize the data\n",
    "x_train = reshape_and_normalize_data(x_train)\n",
    "x_test = reshape_and_normalize_data(x_test)\n",
    "\n",
    "y_train = np_utils.to_categorical(y_train)\n",
    "y_test = np_utils.to_categorical(y_test)"
   ]
  },
  {
   "cell_type": "markdown",
   "metadata": {},
   "source": [
    "### Defining Model Architecture"
   ]
  },
  {
   "cell_type": "code",
   "execution_count": 35,
   "metadata": {},
   "outputs": [],
   "source": [
    "network = Network()                                     # Initialize network\n",
    "network.add(Dense(28 * 28, 16, activation = Tanh()))    # Hidden layer #1\n",
    "network.add(Dense(16, 16, activation = Tanh()))         # Hidden layer #2\n",
    "network.add(Dense(16, 10, activation = Tanh()))         # Output layer\n",
    "network.compile(MSE())                                  # Compile network"
   ]
  },
  {
   "cell_type": "markdown",
   "metadata": {},
   "source": [
    "### Prediction with no previous training"
   ]
  },
  {
   "cell_type": "code",
   "execution_count": 36,
   "metadata": {},
   "outputs": [
    {
     "name": "stdout",
     "output_type": "stream",
     "text": [
      "Accuracy: 7.74%\n"
     ]
    }
   ],
   "source": [
    "X, y_true = subsample(x_train, y_train, 10000)    # Subsample the data\n",
    "y_pred = network.predict(X)     # Make predictions\n",
    "\n",
    "# Calculate the accuracy\n",
    "accuracy = get_accuracy(y_true, y_pred)\n",
    "print(f'Accuracy: {round(accuracy * 100, 2)}%')"
   ]
  },
  {
   "cell_type": "markdown",
   "metadata": {},
   "source": [
    "### Training the Model"
   ]
  },
  {
   "cell_type": "code",
   "execution_count": 37,
   "metadata": {},
   "outputs": [
    {
     "name": "stdout",
     "output_type": "stream",
     "text": [
      "Epoch 1/200\tLoss: 0.198881722911126\n",
      "Epoch 2/200\tLoss: 0.08444379987808696\n",
      "Epoch 3/200\tLoss: 0.059070576065699446\n",
      "Epoch 4/200\tLoss: 0.047526008833765204\n",
      "Epoch 5/200\tLoss: 0.037655425804384295\n",
      "Epoch 6/200\tLoss: 0.02791321733235503\n",
      "Epoch 7/200\tLoss: 0.019437554049761763\n",
      "Epoch 8/200\tLoss: 0.01167839971446563\n",
      "Epoch 9/200\tLoss: 0.007257467782056143\n",
      "Epoch 10/200\tLoss: 0.0043520824063257016\n",
      "Epoch 11/200\tLoss: 0.003967818557880146\n",
      "Epoch 12/200\tLoss: 0.0033568225469414424\n",
      "Epoch 13/200\tLoss: 0.002417992890255153\n",
      "Epoch 14/200\tLoss: 0.0014791982669105442\n",
      "Epoch 15/200\tLoss: 0.004043310695470899\n",
      "Epoch 16/200\tLoss: 0.0047256376965075075\n",
      "Epoch 17/200\tLoss: 0.0031836492449827053\n",
      "Epoch 18/200\tLoss: 0.0014077909011910156\n",
      "Epoch 19/200\tLoss: 0.0027553187391810233\n",
      "Epoch 20/200\tLoss: 0.0015432472911071369\n",
      "Epoch 21/200\tLoss: 0.0008701567471772536\n",
      "Epoch 22/200\tLoss: 0.0016097885915928136\n",
      "Epoch 23/200\tLoss: 0.002777434048094238\n",
      "Epoch 24/200\tLoss: 0.0026681724259089907\n",
      "Epoch 25/200\tLoss: 0.0022394835278734277\n",
      "Epoch 26/200\tLoss: 0.0016467904436709225\n",
      "Epoch 27/200\tLoss: 0.0012121006880821603\n",
      "Epoch 28/200\tLoss: 0.0009065363168101744\n",
      "Epoch 29/200\tLoss: 0.00042856395941767635\n",
      "Epoch 30/200\tLoss: 0.00040304667800048833\n",
      "Epoch 31/200\tLoss: 0.0005490948344576404\n",
      "Epoch 32/200\tLoss: 0.0005760985265330335\n",
      "Epoch 33/200\tLoss: 0.0012697394936955152\n",
      "Epoch 34/200\tLoss: 0.0003898652847628886\n",
      "Epoch 35/200\tLoss: 0.0002870138328548811\n",
      "Epoch 36/200\tLoss: 0.00026744468297934206\n",
      "Epoch 37/200\tLoss: 0.00018233136046806283\n",
      "Epoch 38/200\tLoss: 0.0002504416564581135\n",
      "Epoch 39/200\tLoss: 2.0786564826981556e-05\n",
      "Epoch 40/200\tLoss: 1.370868479901788e-05\n",
      "Epoch 41/200\tLoss: 5.9722695655510746e-06\n",
      "Epoch 42/200\tLoss: 6.887271190765071e-06\n",
      "Epoch 43/200\tLoss: 3.275706879272311e-06\n",
      "Epoch 44/200\tLoss: 2.5384658670358044e-06\n",
      "Epoch 45/200\tLoss: 2.132662211410973e-06\n",
      "Epoch 46/200\tLoss: 2.1123229544172867e-06\n",
      "Epoch 47/200\tLoss: 1.7738012361147646e-06\n",
      "Epoch 48/200\tLoss: 1.4992060064147725e-06\n",
      "Epoch 49/200\tLoss: 1.5313375197647042e-06\n",
      "Epoch 50/200\tLoss: 9.419591228296373e-07\n",
      "Epoch 51/200\tLoss: 8.589805308587672e-07\n",
      "Epoch 52/200\tLoss: 8.719398872745125e-07\n",
      "Epoch 53/200\tLoss: 7.738648145434758e-07\n",
      "Epoch 54/200\tLoss: 7.287606342499045e-07\n",
      "Epoch 55/200\tLoss: 6.921528124822397e-07\n",
      "Epoch 56/200\tLoss: 6.772489415645307e-07\n",
      "Epoch 57/200\tLoss: 5.770705517040352e-07\n",
      "Epoch 58/200\tLoss: 5.555846469845227e-07\n",
      "Epoch 59/200\tLoss: 4.814945530558849e-07\n",
      "Epoch 60/200\tLoss: 4.288893653318102e-07\n",
      "Epoch 61/200\tLoss: 4.729187665637899e-07\n",
      "Epoch 62/200\tLoss: 5.006666201889313e-07\n",
      "Epoch 63/200\tLoss: 3.785652301949774e-07\n",
      "Epoch 64/200\tLoss: 4.4807686799490986e-07\n",
      "Epoch 65/200\tLoss: 3.3256017817515727e-07\n",
      "Epoch 66/200\tLoss: 4.0492367359558406e-07\n",
      "Epoch 67/200\tLoss: 3.2986042109704044e-07\n",
      "Epoch 68/200\tLoss: 3.0019329673480313e-07\n",
      "Epoch 69/200\tLoss: 2.956736903403774e-07\n",
      "Epoch 70/200\tLoss: 2.4539910568214205e-07\n",
      "Epoch 71/200\tLoss: 2.2452094817740983e-07\n",
      "Epoch 72/200\tLoss: 1.8680995087601685e-07\n",
      "Epoch 73/200\tLoss: 1.6367176391753568e-07\n",
      "Epoch 74/200\tLoss: 1.6224245703180214e-07\n",
      "Epoch 75/200\tLoss: 1.6215497875162131e-07\n",
      "Epoch 76/200\tLoss: 1.508125991414566e-07\n",
      "Epoch 77/200\tLoss: 1.3707274037280322e-07\n",
      "Epoch 78/200\tLoss: 1.2838158490115382e-07\n",
      "Epoch 79/200\tLoss: 1.259588778813187e-07\n",
      "Epoch 80/200\tLoss: 1.131739704508249e-07\n",
      "Epoch 81/200\tLoss: 1.1468058253890925e-07\n",
      "Epoch 82/200\tLoss: 1.0679455241288523e-07\n",
      "Epoch 83/200\tLoss: 1.0273267588426917e-07\n",
      "Epoch 84/200\tLoss: 9.243446279920355e-08\n",
      "Epoch 85/200\tLoss: 8.128347400774727e-08\n",
      "Epoch 86/200\tLoss: 8.388809650036407e-08\n",
      "Epoch 87/200\tLoss: 7.783542755341355e-08\n",
      "Epoch 88/200\tLoss: 7.381343262191308e-08\n",
      "Epoch 89/200\tLoss: 6.987459150852042e-08\n",
      "Epoch 90/200\tLoss: 6.229651303665052e-08\n",
      "Epoch 91/200\tLoss: 6.708658994692928e-08\n",
      "Epoch 92/200\tLoss: 6.122416753752773e-08\n",
      "Epoch 93/200\tLoss: 5.44493403549404e-08\n",
      "Epoch 94/200\tLoss: 5.546854849629383e-08\n",
      "Epoch 95/200\tLoss: 5.102243866534076e-08\n",
      "Epoch 96/200\tLoss: 5.28939981491136e-08\n",
      "Epoch 97/200\tLoss: 5.0225430130791e-08\n",
      "Epoch 98/200\tLoss: 5.113771122451533e-08\n",
      "Epoch 99/200\tLoss: 5.002668050943689e-08\n",
      "Epoch 100/200\tLoss: 4.015964416114202e-08\n",
      "Epoch 101/200\tLoss: 5.1486411938191775e-08\n",
      "Epoch 102/200\tLoss: 2.9669923197953968e-08\n",
      "Epoch 103/200\tLoss: 2.728318386470723e-08\n",
      "Epoch 104/200\tLoss: 2.9378896534674157e-08\n",
      "Epoch 105/200\tLoss: 2.550348704024482e-08\n",
      "Epoch 106/200\tLoss: 2.735793346024495e-08\n",
      "Epoch 107/200\tLoss: 2.3551527068094146e-08\n",
      "Epoch 108/200\tLoss: 2.180051452193011e-08\n",
      "Epoch 109/200\tLoss: 2.0961541638139067e-08\n",
      "Epoch 110/200\tLoss: 2.146150012309412e-08\n",
      "Epoch 111/200\tLoss: 2.2344986140678102e-08\n",
      "Epoch 112/200\tLoss: 2.7047496888585105e-08\n",
      "Epoch 113/200\tLoss: 1.5487263741542497e-08\n",
      "Epoch 114/200\tLoss: 2.8008382722363294e-08\n",
      "Epoch 115/200\tLoss: 2.3452047085370703e-08\n",
      "Epoch 116/200\tLoss: 2.5341418211690156e-08\n",
      "Epoch 117/200\tLoss: 2.1212043373377118e-08\n",
      "Epoch 118/200\tLoss: 2.007265844343063e-08\n",
      "Epoch 119/200\tLoss: 2.8236458637218286e-08\n",
      "Epoch 120/200\tLoss: 2.460325908814514e-08\n",
      "Epoch 121/200\tLoss: 2.2763766752434917e-08\n",
      "Epoch 122/200\tLoss: 2.0600480654130772e-08\n",
      "Epoch 123/200\tLoss: 2.6958323088414476e-08\n",
      "Epoch 124/200\tLoss: 2.0503224282394866e-08\n",
      "Epoch 125/200\tLoss: 1.862499175729471e-08\n",
      "Epoch 126/200\tLoss: 1.6790313694162397e-08\n",
      "Epoch 127/200\tLoss: 1.4867453958176952e-08\n",
      "Epoch 128/200\tLoss: 1.637795915377365e-08\n",
      "Epoch 129/200\tLoss: 1.8204263054080367e-08\n",
      "Epoch 130/200\tLoss: 1.7050885233061064e-08\n",
      "Epoch 131/200\tLoss: 1.329876283198449e-08\n",
      "Epoch 132/200\tLoss: 1.5656094962342343e-08\n",
      "Epoch 133/200\tLoss: 1.5167238481904198e-08\n",
      "Epoch 134/200\tLoss: 1.662448700963564e-08\n",
      "Epoch 135/200\tLoss: 1.9262166677048692e-08\n",
      "Epoch 136/200\tLoss: 1.6504283055681227e-08\n",
      "Epoch 137/200\tLoss: 1.657815018447739e-08\n",
      "Epoch 138/200\tLoss: 1.9391633295817923e-08\n",
      "Epoch 139/200\tLoss: 1.5662383209484646e-08\n",
      "Epoch 140/200\tLoss: 1.7149699993715828e-08\n",
      "Epoch 141/200\tLoss: 1.746870730825713e-08\n",
      "Epoch 142/200\tLoss: 1.5177151152521536e-08\n",
      "Epoch 143/200\tLoss: 1.6310178025112445e-08\n",
      "Epoch 144/200\tLoss: 1.698831345944117e-08\n",
      "Epoch 145/200\tLoss: 1.5682990624456954e-08\n",
      "Epoch 146/200\tLoss: 1.6621136274653412e-08\n",
      "Epoch 147/200\tLoss: 1.486517341658568e-08\n",
      "Epoch 148/200\tLoss: 1.4712388035947067e-08\n",
      "Epoch 149/200\tLoss: 1.0998631799187277e-08\n",
      "Epoch 150/200\tLoss: 1.2244319987357183e-08\n",
      "Epoch 151/200\tLoss: 1.145851747046245e-08\n",
      "Epoch 152/200\tLoss: 8.96364561246337e-09\n",
      "Epoch 153/200\tLoss: 7.940753603398386e-09\n",
      "Epoch 154/200\tLoss: 7.272282933049435e-09\n",
      "Epoch 155/200\tLoss: 7.50474815959996e-09\n",
      "Epoch 156/200\tLoss: 5.991742912683142e-09\n",
      "Epoch 157/200\tLoss: 5.924426112583909e-09\n",
      "Epoch 158/200\tLoss: 7.019757121452349e-09\n",
      "Epoch 159/200\tLoss: 6.543393615626968e-09\n",
      "Epoch 160/200\tLoss: 6.122316006146533e-09\n",
      "Epoch 161/200\tLoss: 6.108273994155217e-09\n",
      "Epoch 162/200\tLoss: 5.389719763897594e-09\n",
      "Epoch 163/200\tLoss: 6.542624188458043e-09\n",
      "Epoch 164/200\tLoss: 6.982442392772493e-09\n",
      "Epoch 165/200\tLoss: 6.464158618516087e-09\n",
      "Epoch 166/200\tLoss: 6.327043709123318e-09\n",
      "Epoch 167/200\tLoss: 6.117902860421011e-09\n",
      "Epoch 168/200\tLoss: 7.009238964555996e-09\n",
      "Epoch 169/200\tLoss: 6.794364867679968e-09\n",
      "Epoch 170/200\tLoss: 7.179238119662236e-09\n",
      "Epoch 171/200\tLoss: 7.35086842162232e-09\n",
      "Epoch 172/200\tLoss: 6.315105656776791e-09\n",
      "Epoch 173/200\tLoss: 6.067896390106097e-09\n",
      "Epoch 174/200\tLoss: 5.919874990305653e-09\n",
      "Epoch 175/200\tLoss: 5.731292277652675e-09\n",
      "Epoch 176/200\tLoss: 5.576952057219429e-09\n",
      "Epoch 177/200\tLoss: 5.288864051922668e-09\n",
      "Epoch 178/200\tLoss: 5.267825445741091e-09\n",
      "Epoch 179/200\tLoss: 4.810188968804455e-09\n",
      "Epoch 180/200\tLoss: 4.376377948344679e-09\n",
      "Epoch 181/200\tLoss: 4.959265490919337e-09\n",
      "Epoch 182/200\tLoss: 4.7924496973566156e-09\n",
      "Epoch 183/200\tLoss: 4.697020070428392e-09\n",
      "Epoch 184/200\tLoss: 4.548213080177615e-09\n",
      "Epoch 185/200\tLoss: 4.536060361122211e-09\n",
      "Epoch 186/200\tLoss: 4.442971863504145e-09\n",
      "Epoch 187/200\tLoss: 4.1754399032244615e-09\n",
      "Epoch 188/200\tLoss: 4.305928976676837e-09\n",
      "Epoch 189/200\tLoss: 4.180035569825691e-09\n",
      "Epoch 190/200\tLoss: 4.045502241166677e-09\n",
      "Epoch 191/200\tLoss: 3.869795296198839e-09\n",
      "Epoch 192/200\tLoss: 3.731880185238919e-09\n",
      "Epoch 193/200\tLoss: 3.5151110021071956e-09\n",
      "Epoch 194/200\tLoss: 3.185464712324239e-09\n",
      "Epoch 195/200\tLoss: 3.246456473732229e-09\n",
      "Epoch 196/200\tLoss: 3.122183361556111e-09\n",
      "Epoch 197/200\tLoss: 3.242077860118191e-09\n",
      "Epoch 198/200\tLoss: 3.2401857945119173e-09\n",
      "Epoch 199/200\tLoss: 3.0948126722229773e-09\n",
      "Epoch 200/200\tLoss: 2.8461937676000274e-09\n"
     ]
    }
   ],
   "source": [
    "# Hyperparameters\n",
    "EPOCHS = 200\n",
    "LEARNING_RATE = 0.1\n",
    "BATCH_SIZE = 100\n",
    "\n",
    "history = network.fit(\n",
    "    X = X,\n",
    "    y = y_true,\n",
    "    epochs = EPOCHS,\n",
    "    batch_size = BATCH_SIZE,\n",
    "    learning_rate = LEARNING_RATE,\n",
    "    verbose = True  # Display the loss after each epoch\n",
    ")"
   ]
  },
  {
   "cell_type": "code",
   "execution_count": 38,
   "metadata": {},
   "outputs": [
    {
     "name": "stdout",
     "output_type": "stream",
     "text": [
      "Train Accuracy: 23.33%\n"
     ]
    }
   ],
   "source": [
    "y_pred = network.predict(X)                     # Make predictions\n",
    "\n",
    "# Calculate the accuracy\n",
    "accuracy = get_accuracy(y_true, y_pred)\n",
    "print(f'Train Accuracy: {round(accuracy * 100, 2)}%')"
   ]
  },
  {
   "cell_type": "code",
   "execution_count": 39,
   "metadata": {},
   "outputs": [
    {
     "data": {
      "image/png": "[encoded data removed]",
      "text/plain": [
       "<Figure size 1500x500 with 1 Axes>"
      ]
     },
     "metadata": {},
     "output_type": "display_data"
    }
   ],
   "source": [
    "fig = plt.figure(figsize = (15, 5))\n",
    "plt.title(\"Training Data\")\n",
    "plt.xlabel('Epochs')\n",
    "plt.ylabel('Loss')\n",
    "plt.plot(range(EPOCHS), history, label = 'loss')\n",
    "plt.legend()\n",
    "fig.tight_layout()\n",
    "plt.show()"
   ]
  },
  {
   "cell_type": "code",
   "execution_count": 40,
   "metadata": {},
   "outputs": [
    {
     "name": "stdout",
     "output_type": "stream",
     "text": [
      "Test Accuracy: 23.22%\n"
     ]
    }
   ],
   "source": [
    "X, y_true = subsample(x_test, y_test, 10000)    # Subsample the data\n",
    "y_pred = network.predict(X)                     # Make predictions\n",
    "\n",
    "# Calculate the accuracy\n",
    "accuracy = get_accuracy(y_true, y_pred)\n",
    "print(f'Test Accuracy: {round(accuracy * 100, 2)}%')"
   ]
  }
 ],
 "metadata": {
  "kernelspec": {
   "display_name": "Python 3.10.7 64-bit",
   "language": "python",
   "name": "python3"
  },
  "language_info": {
   "codemirror_mode": {
    "name": "ipython",
    "version": 3
   },
   "file_extension": ".py",
   "mimetype": "text/x-python",
   "name": "python",
   "nbconvert_exporter": "python",
   "pygments_lexer": "ipython3",
   "version": "3.10.7"
  },
  "orig_nbformat": 4,
  "vscode": {
   "interpreter": {
    "hash": "3c283065ad7578c9955aebd4f1d0f973ecbcee75b4b1de557b507264e4d4eabf"
   }
  }
 },
 "nbformat": 4,
 "nbformat_minor": 2
}
